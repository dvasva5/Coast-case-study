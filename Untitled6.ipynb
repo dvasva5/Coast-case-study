{
 "cells": [
  {
   "cell_type": "markdown",
   "metadata": {},
   "source": [
    "# Coast Pay Case Study\n",
    "By Dennis Vasquez"
   ]
  },
  {
   "cell_type": "markdown",
   "metadata": {},
   "source": [
    "## Part 1 Data Analysis"
   ]
  },
  {
   "cell_type": "markdown",
   "metadata": {},
   "source": [
    "### Loading the required packages"
   ]
  },
  {
   "cell_type": "code",
   "execution_count": 32,
   "metadata": {},
   "outputs": [],
   "source": [
    "import numpy as np\n",
    "import pandas as pd\n",
    "import matplotlib.pyplot as plt\n",
    "import seaborn as sns\n",
    "import os\n",
    "import glob\n",
    "from pandas import DataFrame\n",
    "from IPython.display import HTML\n",
    "%matplotlib inline"
   ]
  },
  {
   "cell_type": "markdown",
   "metadata": {},
   "source": [
    "### Loading the dataset"
   ]
  },
  {
   "cell_type": "code",
   "execution_count": 33,
   "metadata": {},
   "outputs": [],
   "source": [
    "data = pd.read_csv('/Users/dennisvasquez/Desktop/coast_project.csv')"
   ]
  },
  {
   "cell_type": "markdown",
   "metadata": {},
   "source": [
    "### Viewing a sample of the dataset and features"
   ]
  },
  {
   "cell_type": "code",
   "execution_count": 34,
   "metadata": {},
   "outputs": [
    {
     "data": {
      "text/html": [
       "<div>\n",
       "<table border=\"1\" class=\"dataframe\">\n",
       "  <thead>\n",
       "    <tr style=\"text-align: right;\">\n",
       "      <th></th>\n",
       "      <th>Unique_Application_ID</th>\n",
       "      <th>Reported_Annual_Business_Revenue</th>\n",
       "      <th>Reported_Monthly_Fuel_Spend</th>\n",
       "      <th>#_of_Vehicles_in_fleet</th>\n",
       "      <th>Credit_score_of_applicant</th>\n",
       "      <th>Business_credit_score</th>\n",
       "      <th>Business_Incorporation_Date_from_business_credit_bureau</th>\n",
       "      <th>years_in_business</th>\n",
       "      <th>Business_SIC_code</th>\n",
       "      <th>Business_Revenue_from_credit_bureau</th>\n",
       "      <th>...</th>\n",
       "      <th>Max_External_Balance_on_business_credit_file</th>\n",
       "      <th>max_balance_transformed</th>\n",
       "      <th>Credit_Utilization_on_business_credit_file</th>\n",
       "      <th>credit_utilization_transformed</th>\n",
       "      <th>Max_External_Line_on_business_credit_file</th>\n",
       "      <th>max_line_transformed</th>\n",
       "      <th>Total_External_Line_on_businesscredit_file</th>\n",
       "      <th>#_of_Inquiries_in_past_30months_on_business_credit_file</th>\n",
       "      <th>Revenue_verified_on_business_during_application_process</th>\n",
       "      <th>score_calculated</th>\n",
       "    </tr>\n",
       "  </thead>\n",
       "  <tbody>\n",
       "    <tr>\n",
       "      <th>48</th>\n",
       "      <td>6981-01-27</td>\n",
       "      <td>$11,000,000</td>\n",
       "      <td>$2,000</td>\n",
       "      <td>50</td>\n",
       "      <td>Missing</td>\n",
       "      <td>g</td>\n",
       "      <td>1988-07-01</td>\n",
       "      <td>35</td>\n",
       "      <td>7699</td>\n",
       "      <td>1637878</td>\n",
       "      <td>...</td>\n",
       "      <td>35435</td>\n",
       "      <td>-19.95</td>\n",
       "      <td>0.64</td>\n",
       "      <td>0.011</td>\n",
       "      <td>55200</td>\n",
       "      <td>-20.84</td>\n",
       "      <td>55200.0</td>\n",
       "      <td>0.0</td>\n",
       "      <td>1</td>\n",
       "      <td>20.73</td>\n",
       "    </tr>\n",
       "    <tr>\n",
       "      <th>661</th>\n",
       "      <td>6820-01-02</td>\n",
       "      <td>$85,000,000</td>\n",
       "      <td>$1,500</td>\n",
       "      <td>4</td>\n",
       "      <td>Missing</td>\n",
       "      <td>h</td>\n",
       "      <td>2022-02-18</td>\n",
       "      <td>1</td>\n",
       "      <td>7378</td>\n",
       "      <td>25698</td>\n",
       "      <td>...</td>\n",
       "      <td>230</td>\n",
       "      <td>-9.88</td>\n",
       "      <td>0.12</td>\n",
       "      <td>0.773</td>\n",
       "      <td>1000</td>\n",
       "      <td>-12.82</td>\n",
       "      <td>1800.0</td>\n",
       "      <td>NaN</td>\n",
       "      <td>1</td>\n",
       "      <td>8.49</td>\n",
       "    </tr>\n",
       "    <tr>\n",
       "      <th>140</th>\n",
       "      <td>4417-01-18</td>\n",
       "      <td>$2,300,000</td>\n",
       "      <td>$800</td>\n",
       "      <td>2</td>\n",
       "      <td>a</td>\n",
       "      <td>b</td>\n",
       "      <td>2015-05-13</td>\n",
       "      <td>8</td>\n",
       "      <td>1521</td>\n",
       "      <td>968308</td>\n",
       "      <td>...</td>\n",
       "      <td>662</td>\n",
       "      <td>-11.99</td>\n",
       "      <td>0.00</td>\n",
       "      <td>1.000</td>\n",
       "      <td>0</td>\n",
       "      <td>1.00</td>\n",
       "      <td>0.0</td>\n",
       "      <td>0.0</td>\n",
       "      <td>0</td>\n",
       "      <td>15.48</td>\n",
       "    </tr>\n",
       "    <tr>\n",
       "      <th>46</th>\n",
       "      <td>6522-10-08</td>\n",
       "      <td>$12,000,000</td>\n",
       "      <td>$5,000</td>\n",
       "      <td>8</td>\n",
       "      <td>Missing</td>\n",
       "      <td>h</td>\n",
       "      <td>1988-07-13</td>\n",
       "      <td>35</td>\n",
       "      <td>5531</td>\n",
       "      <td>1215149</td>\n",
       "      <td>...</td>\n",
       "      <td>23042</td>\n",
       "      <td>-19.09</td>\n",
       "      <td>0.21</td>\n",
       "      <td>0.619</td>\n",
       "      <td>13600</td>\n",
       "      <td>-18.04</td>\n",
       "      <td>27200.0</td>\n",
       "      <td>NaN</td>\n",
       "      <td>0</td>\n",
       "      <td>21.05</td>\n",
       "    </tr>\n",
       "    <tr>\n",
       "      <th>217</th>\n",
       "      <td>5511-03-29</td>\n",
       "      <td>$245,000</td>\n",
       "      <td>$5,000</td>\n",
       "      <td>6</td>\n",
       "      <td>i</td>\n",
       "      <td>h</td>\n",
       "      <td>2012-08-03</td>\n",
       "      <td>11</td>\n",
       "      <td>5084</td>\n",
       "      <td>149632</td>\n",
       "      <td>...</td>\n",
       "      <td>0</td>\n",
       "      <td>1.00</td>\n",
       "      <td>0.00</td>\n",
       "      <td>1.000</td>\n",
       "      <td>3000</td>\n",
       "      <td>-15.01</td>\n",
       "      <td>3000.0</td>\n",
       "      <td>NaN</td>\n",
       "      <td>0</td>\n",
       "      <td>14.21</td>\n",
       "    </tr>\n",
       "  </tbody>\n",
       "</table>\n",
       "<p>5 rows × 22 columns</p>\n",
       "</div>"
      ],
      "text/plain": [
       "    Unique_Application_ID Reported_Annual_Business_Revenue  \\\n",
       "48             6981-01-27                      $11,000,000   \n",
       "661            6820-01-02                      $85,000,000   \n",
       "140            4417-01-18                       $2,300,000   \n",
       "46             6522-10-08                      $12,000,000   \n",
       "217            5511-03-29                         $245,000   \n",
       "\n",
       "    Reported_Monthly_Fuel_Spend  #_of_Vehicles_in_fleet  \\\n",
       "48                       $2,000                      50   \n",
       "661                      $1,500                       4   \n",
       "140                        $800                       2   \n",
       "46                       $5,000                       8   \n",
       "217                      $5,000                       6   \n",
       "\n",
       "    Credit_score_of_applicant Business_credit_score  \\\n",
       "48                    Missing                     g   \n",
       "661                   Missing                     h   \n",
       "140                         a                     b   \n",
       "46                    Missing                     h   \n",
       "217                         i                     h   \n",
       "\n",
       "    Business_Incorporation_Date_from_business_credit_bureau  \\\n",
       "48                                          1988-07-01        \n",
       "661                                         2022-02-18        \n",
       "140                                         2015-05-13        \n",
       "46                                          1988-07-13        \n",
       "217                                         2012-08-03        \n",
       "\n",
       "     years_in_business  Business_SIC_code  \\\n",
       "48                  35               7699   \n",
       "661                  1               7378   \n",
       "140                  8               1521   \n",
       "46                  35               5531   \n",
       "217                 11               5084   \n",
       "\n",
       "     Business_Revenue_from_credit_bureau        ...         \\\n",
       "48                               1637878        ...          \n",
       "661                                25698        ...          \n",
       "140                               968308        ...          \n",
       "46                               1215149        ...          \n",
       "217                               149632        ...          \n",
       "\n",
       "     Max_External_Balance_on_business_credit_file  max_balance_transformed  \\\n",
       "48                                          35435                   -19.95   \n",
       "661                                           230                    -9.88   \n",
       "140                                           662                   -11.99   \n",
       "46                                          23042                   -19.09   \n",
       "217                                             0                     1.00   \n",
       "\n",
       "     Credit_Utilization_on_business_credit_file  \\\n",
       "48                                         0.64   \n",
       "661                                        0.12   \n",
       "140                                        0.00   \n",
       "46                                         0.21   \n",
       "217                                        0.00   \n",
       "\n",
       "     credit_utilization_transformed  \\\n",
       "48                            0.011   \n",
       "661                           0.773   \n",
       "140                           1.000   \n",
       "46                            0.619   \n",
       "217                           1.000   \n",
       "\n",
       "     Max_External_Line_on_business_credit_file  max_line_transformed  \\\n",
       "48                                       55200                -20.84   \n",
       "661                                       1000                -12.82   \n",
       "140                                          0                  1.00   \n",
       "46                                       13600                -18.04   \n",
       "217                                       3000                -15.01   \n",
       "\n",
       "     Total_External_Line_on_businesscredit_file  \\\n",
       "48                                      55200.0   \n",
       "661                                      1800.0   \n",
       "140                                         0.0   \n",
       "46                                      27200.0   \n",
       "217                                      3000.0   \n",
       "\n",
       "     #_of_Inquiries_in_past_30months_on_business_credit_file  \\\n",
       "48                                                 0.0         \n",
       "661                                                NaN         \n",
       "140                                                0.0         \n",
       "46                                                 NaN         \n",
       "217                                                NaN         \n",
       "\n",
       "     Revenue_verified_on_business_during_application_process  score_calculated  \n",
       "48                                                   1                   20.73  \n",
       "661                                                  1                    8.49  \n",
       "140                                                  0                   15.48  \n",
       "46                                                   0                   21.05  \n",
       "217                                                  0                   14.21  \n",
       "\n",
       "[5 rows x 22 columns]"
      ]
     },
     "execution_count": 34,
     "metadata": {},
     "output_type": "execute_result"
    }
   ],
   "source": [
    "data.sample(5)"
   ]
  },
  {
   "cell_type": "markdown",
   "metadata": {},
   "source": [
    "### Number of dataset rows and features"
   ]
  },
  {
   "cell_type": "code",
   "execution_count": 35,
   "metadata": {},
   "outputs": [
    {
     "data": {
      "text/plain": [
       "(673, 22)"
      ]
     },
     "execution_count": 35,
     "metadata": {},
     "output_type": "execute_result"
    }
   ],
   "source": [
    "data.shape"
   ]
  },
  {
   "cell_type": "markdown",
   "metadata": {},
   "source": [
    "### Business SIC categories"
   ]
  },
  {
   "cell_type": "code",
   "execution_count": 36,
   "metadata": {},
   "outputs": [
    {
     "data": {
      "text/plain": [
       "9999    82\n",
       "1711    50\n",
       "1521    33\n",
       "4789    33\n",
       "7389    23\n",
       "4212    19\n",
       "1799    19\n",
       "8742    17\n",
       "1731    16\n",
       "8741    12\n",
       "781     12\n",
       "7699    11\n",
       "7549    10\n",
       "5999     9\n",
       "8748     9\n",
       "1761     9\n",
       "4213     9\n",
       "7349     9\n",
       "7359     8\n",
       "4731     8\n",
       "7538     8\n",
       "7342     7\n",
       "783      6\n",
       "6799     6\n",
       "5812     6\n",
       "782      6\n",
       "8711     6\n",
       "8011     5\n",
       "8082     5\n",
       "5511     5\n",
       "        ..\n",
       "5087     1\n",
       "752      1\n",
       "1741     1\n",
       "2819     1\n",
       "7641     1\n",
       "2434     1\n",
       "4491     1\n",
       "5521     1\n",
       "4971     1\n",
       "8611     1\n",
       "5541     1\n",
       "3999     1\n",
       "8621     1\n",
       "5551     1\n",
       "7623     1\n",
       "3537     1\n",
       "4581     1\n",
       "2752     1\n",
       "5621     1\n",
       "1542     1\n",
       "5088     1\n",
       "3599     1\n",
       "8721     1\n",
       "2631     1\n",
       "6733     1\n",
       "8069     1\n",
       "5736     1\n",
       "3711     1\n",
       "7819     1\n",
       "3086     1\n",
       "Name: Business_SIC_code, dtype: int64"
      ]
     },
     "execution_count": 36,
     "metadata": {},
     "output_type": "execute_result"
    }
   ],
   "source": [
    "data.Business_SIC_code.value_counts()"
   ]
  },
  {
   "cell_type": "markdown",
   "metadata": {},
   "source": [
    "## Visualizing the five variables"
   ]
  },
  {
   "cell_type": "markdown",
   "metadata": {},
   "source": [
    "### Visualizing Years in Business"
   ]
  },
  {
   "cell_type": "code",
   "execution_count": 37,
   "metadata": {},
   "outputs": [
    {
     "data": {
      "image/png": "[encoded data removed]",
      "text/plain": [
       "<matplotlib.figure.Figure at 0x11a6d5590>"
      ]
     },
     "metadata": {},
     "output_type": "display_data"
    }
   ],
   "source": [
    "sns.distplot(data.years_in_business).set_title('Histogram of Years in Business');"
   ]
  },
  {
   "cell_type": "markdown",
   "metadata": {},
   "source": [
    "### Visualizing Business_Revenue_from_credit_bureau"
   ]
  },
  {
   "cell_type": "code",
   "execution_count": 38,
   "metadata": {},
   "outputs": [
    {
     "data": {
      "image/png": "[encoded data removed]",
      "text/plain": [
       "<matplotlib.figure.Figure at 0x11a850d10>"
      ]
     },
     "metadata": {},
     "output_type": "display_data"
    }
   ],
   "source": [
    "sns.distplot(data.Business_Revenue_from_credit_bureau).set_title('Histogram of Business_Revenue_from_credit_bureau');"
   ]
  },
  {
   "cell_type": "markdown",
   "metadata": {},
   "source": [
    "### Visualizing Max_External_Balance_on_business_credit_file"
   ]
  },
  {
   "cell_type": "code",
   "execution_count": 39,
   "metadata": {},
   "outputs": [
    {
     "data": {
      "image/png": "[encoded data removed]",
      "text/plain": [
       "<matplotlib.figure.Figure at 0x11af771d0>"
      ]
     },
     "metadata": {},
     "output_type": "display_data"
    }
   ],
   "source": [
    "sns.distplot(data.Max_External_Balance_on_business_credit_file).set_title('Histogram of Max_External_Balance_on_business_credit_file');"
   ]
  },
  {
   "cell_type": "markdown",
   "metadata": {},
   "source": [
    "### Visualizing Credit_Utilization_on_business_credit_file"
   ]
  },
  {
   "cell_type": "code",
   "execution_count": 40,
   "metadata": {},
   "outputs": [
    {
     "data": {
      "image/png": "[encoded data removed]",
      "text/plain": [
       "<matplotlib.figure.Figure at 0x11b21c410>"
      ]
     },
     "metadata": {},
     "output_type": "display_data"
    }
   ],
   "source": [
    "sns.distplot(data.Credit_Utilization_on_business_credit_file).set_title('Histogram of Credit_Utilization_on_business_credit_file');"
   ]
  },
  {
   "cell_type": "markdown",
   "metadata": {},
   "source": [
    "### Visualizing Max_External_Line_on_business_credit_file"
   ]
  },
  {
   "cell_type": "code",
   "execution_count": 41,
   "metadata": {},
   "outputs": [
    {
     "data": {
      "image/png": "[encoded data removed]",
      "text/plain": [
       "<matplotlib.figure.Figure at 0x11b3f4550>"
      ]
     },
     "metadata": {},
     "output_type": "display_data"
    }
   ],
   "source": [
    "sns.distplot(data.Max_External_Line_on_business_credit_file).set_title('Histogram of Max_External_Line_on_business_credit_file');"
   ]
  },
  {
   "cell_type": "markdown",
   "metadata": {},
   "source": [
    "### Visualizing score_calculated"
   ]
  },
  {
   "cell_type": "code",
   "execution_count": 42,
   "metadata": {},
   "outputs": [
    {
     "data": {
      "image/png": "[encoded data removed]",
      "text/plain": [
       "<matplotlib.figure.Figure at 0x11b32b150>"
      ]
     },
     "metadata": {},
     "output_type": "display_data"
    }
   ],
   "source": [
    "sns.distplot(data.score_calculated).set_title('Histogram of score_calculated');"
   ]
  },
  {
   "cell_type": "markdown",
   "metadata": {},
   "source": [
    "### Boxplot of score_calculated"
   ]
  },
  {
   "cell_type": "code",
   "execution_count": 46,
   "metadata": {},
   "outputs": [
    {
     "data": {
      "image/png": "[encoded data removed]",
      "text/plain": [
       "<matplotlib.figure.Figure at 0x11b2ccc90>"
      ]
     },
     "metadata": {},
     "output_type": "display_data"
    }
   ],
   "source": [
    "sns.boxplot(y=data[\"score_calculated\"]).set_title('Boxplot of score_calculated');"
   ]
  },
  {
   "cell_type": "markdown",
   "metadata": {},
   "source": [
    "### Descriptive statistics of score_calculated"
   ]
  },
  {
   "cell_type": "code",
   "execution_count": 47,
   "metadata": {},
   "outputs": [
    {
     "data": {
      "text/plain": [
       "count    673.000000\n",
       "mean      13.794235\n",
       "std        4.041422\n",
       "min        6.850000\n",
       "25%       11.430000\n",
       "50%       12.670000\n",
       "75%       15.030000\n",
       "max       35.450000\n",
       "Name: score_calculated, dtype: float64"
      ]
     },
     "execution_count": 47,
     "metadata": {},
     "output_type": "execute_result"
    }
   ],
   "source": [
    "data['score_calculated'].describe()"
   ]
  },
  {
   "cell_type": "markdown",
   "metadata": {},
   "source": [
    "## Part 2 Industry Risk Assessment"
   ]
  },
  {
   "cell_type": "markdown",
   "metadata": {},
   "source": [
    "### HVAC industry specific risks"
   ]
  },
  {
   "cell_type": "markdown",
   "metadata": {},
   "source": [
    "HVAC businesses face unique risks to consider when underwriting. Three critical issues to consider when reviewing are:\n",
    "\n",
    "- A competitive market for HVAC services\n",
    "- Seasonal nature with periods of low demand\n",
    "- High costs of equipment\n",
    "\n",
    "A competitive market can lead to a lower market share and subsequently lower price offers for HVAC services. The nature of competition unfortunately results in thin profit margins for most HVAC businesses, if they aren’t able to reach economies of scale or expand into new regions.\n",
    "\n",
    "HVAC businesses suffer from seasonality when their services are typically in high demand during times of extreme weather events - either summer or winter. As a result, HVAC businesses experience irregular cash flows during the year which could result in missed payments to lenders or layoffs.\n",
    "\n",
    "HVAC businesses offer services that require a specific skill set and equipment. As a result, most HVAC businesses might incur high costs to invest in specific equipment - this can be an issue, especially when coupled with other cash flow shortages.\n"
   ]
  }
 ],
 "metadata": {
  "kernelspec": {
   "display_name": "Python 2",
   "language": "python",
   "name": "python2"
  },
  "language_info": {
   "codemirror_mode": {
    "name": "ipython",
    "version": 2
   },
   "file_extension": ".py",
   "mimetype": "text/x-python",
   "name": "python",
   "nbconvert_exporter": "python",
   "pygments_lexer": "ipython2",
   "version": "2.7.14"
  }
 },
 "nbformat": 4,
 "nbformat_minor": 2
}
